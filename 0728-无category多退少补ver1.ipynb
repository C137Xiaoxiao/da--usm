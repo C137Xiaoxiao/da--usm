{
 "cells": [
  {
   "cell_type": "code",
   "execution_count": 63,
   "metadata": {
    "scrolled": true
   },
   "outputs": [
    {
     "name": "stdout",
     "output_type": "stream",
     "text": [
      "     陈列类      细类代码      细类名称           商品代码  \\\n",
      "0     食品  32016289  饼干/糕点/膨化  2011768410107   \n",
      "1     食品  32016289  饼干/糕点/膨化  2011768210103   \n",
      "2     食品  32016289  饼干/糕点/膨化  2015343610104   \n",
      "3     食品  32016289  饼干/糕点/膨化  2012176910104   \n",
      "4     食品  32016289  饼干/糕点/膨化  2015246010100   \n",
      "..   ...       ...       ...            ...   \n",
      "915  儿童袜  29013356       儿童袜  2013876311109   \n",
      "916  儿童袜  29013356       儿童袜  2013876410109   \n",
      "917  儿童袜  29013356       儿童袜  2013876411106   \n",
      "918  儿童袜  29013356       儿童袜  2013876510106   \n",
      "919  儿童袜  29013356       儿童袜  2013876511103   \n",
      "\n",
      "                                         商品名称  系列名称      版权描述  价格带   季节  \\\n",
      "0    美国自采: ORION TURTLE CHIP CHOCO CHURROS （L   未分配       非版权  未分配  未分配   \n",
      "1    美国自采: ORION TURTLE CHIP CORN SOUP （L） 16   未分配       非版权  未分配  未分配   \n",
      "2       美国自采: ORION TURTLE CHIPS MALA （M） 80G   未分配       非版权  未分配  未分配   \n",
      "3     美国自采: ORION TURTLE CHIPS, SEAWEED, 160G   未分配       非版权  未分配  未分配   \n",
      "4    美国自采: HELLO KITTY WAFER COOKIES GREEN TE   未分配       非版权  未分配  未分配   \n",
      "..                                        ...   ...       ...  ...  ...   \n",
      "915                      迪士尼系列苏利文三双装儿童袜（5—7Y）  1563  迪士尼-名创版权  未分配   18   \n",
      "916                      迪士尼系列史迪仔三双装儿童袜（5—7Y）  1563  迪士尼-名创版权  未分配   18   \n",
      "917                      迪士尼系列史迪仔三双装儿童袜（7—9Y）  1563  迪士尼-名创版权  未分配   18   \n",
      "918                      迪士尼系列草莓熊三双装儿童袜（7—9Y）  1563  迪士尼-名创版权  未分配   18   \n",
      "919                      迪士尼系列草莓熊三双装儿童袜（5—7Y）  1563  迪士尼-名创版权  未分配   18   \n",
      "\n",
      "     本地\\n组合价  ... 订货中包体积 是否促销    订货金额  商品长度  商品宽度 商品高度  配货规格   专区  是否需要细类  \\\n",
      "0       4.99  ...      0    1  558.88  25.0   0.0  0.0    14  0.0       0   \n",
      "1       4.99  ...      0    1  239.52  25.0   0.0  0.0    12  0.0       0   \n",
      "2       3.99  ...      0    1  191.52   0.0   0.0  0.0    12  0.0       0   \n",
      "3       4.99  ...      0    1  299.40  25.0   0.0  0.0    12  0.0       0   \n",
      "4       2.49  ...      0    1   89.64  15.0  10.0  3.0    12  0.0       0   \n",
      "..       ...  ...    ...  ...     ...   ...   ...  ...   ...  ...     ...   \n",
      "915     5.99  ...      0    0    0.00   7.0   0.0  0.0     6  0.0       0   \n",
      "916     5.99  ...      0    0    0.00   7.0   0.0  0.0     6  0.0       0   \n",
      "917     5.99  ...      0    0    0.00   7.0   0.0  0.0     6  0.0       0   \n",
      "918     5.99  ...      0    0    0.00   7.0   0.0  0.0     6  0.0       0   \n",
      "919     5.99  ...      0    0    0.00   7.0   0.0  0.0     6  0.0       0   \n",
      "\n",
      "     坪效优化  \n",
      "0       0  \n",
      "1       0  \n",
      "2       0  \n",
      "3       0  \n",
      "4       0  \n",
      "..    ...  \n",
      "915     0  \n",
      "916     0  \n",
      "917     0  \n",
      "918     0  \n",
      "919     0  \n",
      "\n",
      "[920 rows x 39 columns]\n"
     ]
    }
   ],
   "source": [
    "import numpy as np\n",
    "import pandas as pd\n",
    "import math\n",
    "import time\n",
    "\n",
    "# Start timer\n",
    "start = time.perf_counter()\n",
    "\n",
    "# 导入数据\n",
    "#copy excel all before run code运行前粘贴表9\n",
    "df=pd.read_clipboard(\"\\t\")\n",
    "print(df)"
   ]
  },
  {
   "cell_type": "code",
   "execution_count": 64,
   "metadata": {
    "scrolled": true
   },
   "outputs": [],
   "source": [
    "df['商品代码'] = [str(x) for x in df['商品代码'] ]"
   ]
  },
  {
   "cell_type": "code",
   "execution_count": 65,
   "metadata": {},
   "outputs": [],
   "source": [
    "# 每个店需要根据下单计划进行手改\n",
    "store_code = 'US23'\n",
    "date = '230731'\n",
    "\n",
    "# 提前下单日期-手改\n",
    "advance_day = 2\n",
    "\n",
    "# 目标下单金额-手改每次\n",
    "#stock_amount =55000\n",
    "\n",
    "# 目标下单pieces-手改每次\n",
    "stock_piece = 6875"
   ]
  },
  {
   "cell_type": "code",
   "execution_count": 66,
   "metadata": {},
   "outputs": [],
   "source": [
    "# sub-factor 次级参数\n",
    "\n",
    "# 可售天数\n",
    "turnover= 58+advance_day \n",
    "big_sell_well_day = 60+advance_day # 畅销品最大补货周转天数\n",
    "patch_Upper_and_lower = 500 #补货数量上下限\n",
    "\n",
    "balance_ratio = 1.05 # 细类平衡率 \n",
    "standard_number_of_day_up=28+advance_day #标准订货日期上限 30\n",
    "# area_ratio = 0.8 # 区域日均销比率\n",
    "sell_well_down=0.3 #畅销补货底线 0.3\n",
    "sell_well_down_all_area = 0.5 #综合、区域畅销补货底线 0.45\n",
    "standard_number_of_day_down = 38+advance_day # 低于最低日期的能补的最高日起  43\n",
    "new_well_down = 0.30  # 新品补货底线 0.3\n",
    "mini_balance = 1.3  # 细类平衡率偏差 1.4\n",
    "max_sale_day = 78+advance_day # 调整品类的最大的周转天数  78\n",
    "slender_deviate = 100 # 细类最大偏差  100\n",
    "add_to_down = 0.35 #追加补货底线 0.35\n",
    "wheel_number = 5 # 最后降序每循环多少次刷新一次"
   ]
  },
  {
   "cell_type": "code",
   "execution_count": 67,
   "metadata": {},
   "outputs": [],
   "source": [
    "# top_article=150 #补畅销品数量\n",
    "\n",
    "# west arriving date 7; east arriving date 14\n",
    "west_arriving_date=7+advance_day\n",
    "east_arriving_data=14+advance_day"
   ]
  },
  {
   "cell_type": "code",
   "execution_count": 68,
   "metadata": {},
   "outputs": [],
   "source": [
    "sale_number_1 =0\n",
    "df1 = df"
   ]
  },
  {
   "cell_type": "code",
   "execution_count": 69,
   "metadata": {},
   "outputs": [
    {
     "data": {
      "text/plain": [
       "920"
      ]
     },
     "execution_count": 69,
     "metadata": {},
     "output_type": "execute_result"
    }
   ],
   "source": [
    "df1.shape[0]"
   ]
  },
  {
   "cell_type": "code",
   "execution_count": 70,
   "metadata": {
    "scrolled": true
   },
   "outputs": [],
   "source": [
    "# 判断有无其实是数字的字符串\n",
    "# 调整格式\n",
    "\n",
    "list_1 = ['仓库\\n可用库存', '门店\\n库存','系统\\n订货数量', '调整后\\n订货数量'\n",
    "        , ' 订货包数', '总销量', '综合\\n日均销', '本店\\n日均销',  '区域\\n日均销'\n",
    "        , '可售天数', '单品标准PCS', '细类定标\\nPCS', '细类偏差\\nPCS'\n",
    "        ,'细类\\n平衡率']\n",
    "\n",
    "\n",
    "# 带#的单品\n",
    "str_to_int = []\n",
    "if_have_jing = False\n",
    "for i in range(df1.shape[0]):\n",
    "    if df1['本地\\n组合价'][i]=='#':\n",
    "        df1['本地\\n组合价'][i] = 0\n",
    "        df1['整箱规格'][i]='0*0*0'\n",
    "        df1['订货\\n类型'][i]='禁配'\n",
    "        if_have_jing = True\n",
    "        \n",
    "if if_have_jing:\n",
    "    for i in range(df1.shape[0]):   \n",
    "        if type(df1['本地\\n组合价'][i]) == str and '.'in df1['本地\\n组合价'][i]:\n",
    "            str_to_int.append(float(df1['本地\\n组合价'][i]))\n",
    "        else:\n",
    "            str_to_int.append(df1['本地\\n组合价'][i])\n",
    "    df1['本地\\n组合价'] = str_to_int\n",
    "        \n",
    "\n",
    "# 门店库存转数字\n",
    "\n",
    "for i in range(len(list_1)):\n",
    "    str_to_int = []\n",
    "    for j in range(df1.shape[0]): \n",
    "        if pd.isnull(df1[list_1[i]][j]):\n",
    "            str_to_int.append(0)\n",
    "        elif type(df1[list_1[i]][j]) == int:\n",
    "            str_to_int.append(df1[list_1[i]][j])\n",
    "        elif type(df1[list_1[i]][j]) == np.int64:\n",
    "            str_to_int.append(df1[list_1[i]][j])\n",
    "        elif type(df1[list_1[i]][j]) == np.float64:\n",
    "            str_to_int.append(df1[list_1[i]][j])\n",
    "        elif type(df1[list_1[i]][j]) == str and '%'in df1[list_1[i]][j]:\n",
    "            if ','in df1[list_1[i]][j]:\n",
    "                str_to_int.append(float(str(df1[list_1[i]][j]).replace(',','').replace('%',''))*0.01)\n",
    "            else:\n",
    "                str_to_int.append(float(str(df1[list_1[i]][j]).replace('%',''))*0.01)\n",
    "        elif type(df1[list_1[i]][j]) == str and ','in df1[list_1[i]][j]:\n",
    "            str_to_int.append(float(str(df1[list_1[i]][j]).replace(',','')))\n",
    "        elif type(df1[list_1[i]][j]) == str and '.'in df1[list_1[i]][j]:\n",
    "            str_to_int.append(float(df1[list_1[i]][j]))\n",
    "        elif type(df1[list_1[i]][j]) == str and '.'not in df1[list_1[i]][j] and ','not in df1[list_1[i]][j]:\n",
    "            str_to_int.append(float(df1[list_1[i]][j]))        \n",
    "            \n",
    "    df1[list_1[i]] = str_to_int\n",
    "  "
   ]
  },
  {
   "cell_type": "code",
   "execution_count": 71,
   "metadata": {},
   "outputs": [],
   "source": [
    "#规格转换\n",
    "#读取原箱规格1*1*1\n",
    "size = []\n",
    "for i in range(df1.shape[0]):\n",
    "    size.append(int(df1['整箱规格'][i].split(\"*\", 3)[1]))\n",
    "\n",
    "df1['规格'] = size"
   ]
  },
  {
   "cell_type": "code",
   "execution_count": 72,
   "metadata": {},
   "outputs": [],
   "source": [
    "# 预处理表9\n",
    "# 剔除禁配\n",
    "sale_number = []  # 下单包数\n",
    "for i in range(df1.shape[0]):\n",
    "    if df1['订货\\n原因'][i] == '禁配':\n",
    "        sale_number.append(0)\n",
    "    else:\n",
    "        sale_number.append(df1[' 订货包数'][i])\n",
    "        \n",
    "# 剔除仓库库存=<0 or 订货包数=<0\n",
    "\n",
    "sale_number = []  # 下单包数\n",
    "\n",
    "for i in range(df1.shape[0]):\n",
    "    if df1['仓库\\n可用库存'][i] <= 0:\n",
    "        sale_number.append(0)\n",
    "    elif df1['仓库\\n可用库存'][i] > 0 and df1['仓库\\n可用库存'][i]<df1[' 订货包数'][i]*df1['规格'][i]:\n",
    "        sale_number.append(df1['仓库\\n可用库存'][i]/df1['规格'][i])\n",
    "    else:\n",
    "        sale_number.append(df1[' 订货包数'][i])\n",
    "        \n",
    "df1[' 订货包数'] =sale_number"
   ]
  },
  {
   "cell_type": "code",
   "execution_count": 73,
   "metadata": {},
   "outputs": [],
   "source": [
    "# # 剔除出系统下单下多的，把订货数量的销售天数控制在turnoverday以内\n",
    "\n",
    "# sale_number = []  # 下单包数\n",
    "# sale_day_1 = []   # 可售天数\n",
    "\n",
    "# for i in range(df1.shape[0]):\n",
    "    \n",
    "#     if df1['仓库\\n可用库存'][i] > 0:\n",
    "#         if df1[' 订货包数'][i] >0 and df1['可售天数'][i]>turnover and df1['订货\\n类型'][i]!='新品':\n",
    "#             sale_number_1 = df1[' 订货包数'][i]\n",
    "#             while sale_number_1 > 0 and (df1['门店\\n库存'][i]+sale_number_1*df1['规格'][i])/df1['综合\\n日均销'][i] > turnover:\n",
    "#                 sale_number_1 = sale_number_1 - 1\n",
    "#             sale_number.append(sale_number_1)\n",
    "#             sale_day_1.append((df1['门店\\n库存'][i]+sale_number_1*df1['规格'][i])/df1['综合\\n日均销'][i])\n",
    "#         else:\n",
    "#             sale_number.append(df1[' 订货包数'][i])\n",
    "#             sale_day_1.append(df1['可售天数'][i])\n",
    "#     else:\n",
    "#         sale_number.append(df1[' 订货包数'][i])\n",
    "#         sale_day_1.append(df1['可售天数'][i])\n",
    "\n",
    "# df1['订货包数'] =sale_number\n",
    "# df1['可售天数'] = sale_day_1\n",
    "# df1['调整后\\n订货数量']= df1[' 订货包数']*df1['规格']"
   ]
  },
  {
   "cell_type": "code",
   "execution_count": 74,
   "metadata": {},
   "outputs": [],
   "source": [
    "# 处理car系统自动补货数量\n",
    "# 剔除出系统下单下多的，剔除car系统补货后可售天数过高的\n",
    "sale_number = []\n",
    "sale_day_1 = []\n",
    "\n",
    "for i in range(df1.shape[0]):\n",
    "    if df1['仓库\\n可用库存'][i] > 0:\n",
    "        if df1[' 订货包数'][i] > 0 and df1['订货\\n类型'][i]!='新品':\n",
    "            if df1['陈列类'][i] == '居家生活-公仔' and df1['可售天数'][i]>40:\n",
    "                sale_number_1 = df1[' 订货包数'][i]\n",
    "                while sale_number_1 > 0 and (df1['门店\\n库存'][i]+sale_number_1*df1['规格'][i])/df1['综合\\n日均销'][i] > 40:\n",
    "                    sale_number_1 = sale_number_1 - 1\n",
    "                sale_number.append(sale_number_1)\n",
    "                sale_day_1.append((df1['门店\\n库存'][i]+sale_number_1*df1['规格'][i])/df1['综合\\n日均销'][i])\n",
    "            elif df1['陈列类'][i] == '食品'and df1['可售天数'][i]>70:\n",
    "                if df1['细类名称'][i] == '饮料/饮品' and df1['可售天数'][i]>45:\n",
    "                    sale_number_1 = df1[' 订货包数'][i]\n",
    "                    while sale_number_1 > 0 and (df1['门店\\n库存'][i]+sale_number_1*df1['规格'][i])/df1['综合\\n日均销'][i] > 45:\n",
    "                        sale_number_1 = sale_number_1 - 1\n",
    "                    sale_number.append(sale_number_1)\n",
    "                    sale_day_1.append((df1['门店\\n库存'][i]+sale_number_1*df1['规格'][i])/df1['综合\\n日均销'][i])\n",
    "                else:\n",
    "                    sale_number_1 = df1[' 订货包数'][i]\n",
    "                    while sale_number_1 > 0 and (df1['门店\\n库存'][i]+sale_number_1*df1['规格'][i])/df1['综合\\n日均销'][i] > 70:\n",
    "                        sale_number_1 = sale_number_1 - 1\n",
    "                    sale_number.append(sale_number_1)\n",
    "                    sale_day_1.append((df1['门店\\n库存'][i]+sale_number_1*df1['规格'][i])/df1['综合\\n日均销'][i])\n",
    "            elif df1['陈列类'][i] == '盲盒系列' and df1['可售天数'][i]>80:\n",
    "                sale_number_1 = df1[' 订货包数'][i]\n",
    "                while sale_number_1 > 0 and (df1['门店\\n库存'][i]+sale_number_1*df1['规格'][i])/df1['综合\\n日均销'][i] > 80:\n",
    "                    sale_number_1 = sale_number_1 - 1\n",
    "                sale_number.append(sale_number_1)\n",
    "                sale_day_1.append((df1['门店\\n库存'][i]+sale_number_1*df1['规格'][i])/df1['综合\\n日均销'][i])\n",
    "            elif df1['可售天数'][i] > 30:\n",
    "                sale_number_1 = df1[' 订货包数'][i]\n",
    "                while sale_number_1 > 0 and (df1['门店\\n库存'][i]+sale_number_1*df1['规格'][i])/df1['综合\\n日均销'][i] > 30:\n",
    "                    sale_number_1 = sale_number_1 - 1\n",
    "                sale_number.append(sale_number_1)\n",
    "                sale_day_1.append((df1['门店\\n库存'][i]+sale_number_1*df1['规格'][i])/df1['综合\\n日均销'][i])\n",
    "            else:\n",
    "                sale_number.append(df1[' 订货包数'][i])\n",
    "                sale_day_1.append(df1['可售天数'][i])\n",
    "        else:\n",
    "            sale_number.append(df1[' 订货包数'][i])\n",
    "            sale_day_1.append(df1['可售天数'][i])\n",
    "    else:\n",
    "        sale_number.append(df1[' 订货包数'][i])\n",
    "        sale_day_1.append(df1['可售天数'][i])\n",
    "\n",
    "df1[' 订货包数'] =sale_number\n",
    "df1['可售天数'] = sale_day_1\n",
    "df1['调整后\\n订货数量']= df1[' 订货包数']*df1['规格']"
   ]
  },
  {
   "cell_type": "code",
   "execution_count": 75,
   "metadata": {},
   "outputs": [
    {
     "data": {
      "text/plain": [
       "236"
      ]
     },
     "execution_count": 75,
     "metadata": {},
     "output_type": "execute_result"
    }
   ],
   "source": [
    "# 补货总数\n",
    "sum(df1[' 订货包数']*df1['规格'])"
   ]
  },
  {
   "cell_type": "code",
   "execution_count": 76,
   "metadata": {},
   "outputs": [
    {
     "name": "stderr",
     "output_type": "stream",
     "text": [
      "C:\\Users\\Irene\\AppData\\Local\\Temp\\ipykernel_16060\\3236451777.py:15: RuntimeWarning: divide by zero encountered in double_scalars\n",
      "  if df1['仓库\\n可用库存'][i] > 0 and (df1['门店\\n库存'][i]+1*df1['规格'][i])/df1['综合\\n日均销'][i]<=standard_number_of_day_up and df1['门店\\n库存'][i]<df1['规格'][i]/2:\n",
      "C:\\Users\\Irene\\AppData\\Local\\Temp\\ipykernel_16060\\3236451777.py:45: RuntimeWarning: divide by zero encountered in double_scalars\n",
      "  sale_day_1.append(min((df1['门店\\n库存'][i]+1*df1['规格'][i])/df1['综合\\n日均销'][i],(df1['门店\\n库存'][i]+1*df1['规格'][i])/df1['本店\\n日均销'][i]))\n",
      "C:\\Users\\Irene\\AppData\\Local\\Temp\\ipykernel_16060\\3236451777.py:46: SettingWithCopyWarning: \n",
      "A value is trying to be set on a copy of a slice from a DataFrame\n",
      "\n",
      "See the caveats in the documentation: https://pandas.pydata.org/pandas-docs/stable/user_guide/indexing.html#returning-a-view-versus-a-copy\n",
      "  df1['订货\\n类型'][i] = 0\n"
     ]
    }
   ],
   "source": [
    "# 自主补货\n",
    "# 1、补三丽鸥产品\n",
    "\n",
    "sale_number =[]  #调整订货包数\n",
    "sale_day_1 = []   # 可售天数\n",
    "    \n",
    "for i in range(df1.shape[0]):\n",
    "    if df1['订货\\n类型'][i]!='新品' and df1['订货\\n原因'][i] != '禁配':\n",
    "        if df1['版权描述'][i] == '三丽鸥-名创版权':\n",
    "            sale_number_1 = df1[' 订货包数'][i]\n",
    "            if sale_number_1 > 0:\n",
    "                sale_number.append(df1[' 订货包数'][i])\n",
    "                sale_day_1.append(df1['可售天数'][i]) \n",
    "            else:\n",
    "                if df1['仓库\\n可用库存'][i] > 0 and (df1['门店\\n库存'][i]+1*df1['规格'][i])/df1['综合\\n日均销'][i]<=standard_number_of_day_up and df1['门店\\n库存'][i]<df1['规格'][i]/2:\n",
    "                    if df1['陈列类'][i] == '居家生活-公仔' and df1['可售天数'][i]<=40:\n",
    "                        while sale_number_1 > 0 and (df1['门店\\n库存'][i]+sale_number_1*df1['规格'][i])/df1['综合\\n日均销'][i] <=40 and df1[' 订货包数']*df1['规格'] < df1['仓库\\n可用库存']:\n",
    "                            sale_number_1 = sale_number_1 + 1\n",
    "                        sale_number.append(sale_number_1)\n",
    "                        sale_day_1.append(min((df1['门店\\n库存'][i]+1*df1['规格'][i])/df1['综合\\n日均销'][i],(df1['门店\\n库存'][i]+1*df1['规格'][i])/df1['本店\\n日均销'][i]))\n",
    "                        df1['订货\\n类型'][i] = 0\n",
    "                    elif df1['陈列类'][i] == '食品' and df1['可售天数'][i]<=70:\n",
    "                        if df1['细类名称'][i] == '饮料/饮品' and df1['可售天数'][i]<=45:\n",
    "                            while sale_number_1 > 0 and (df1['门店\\n库存'][i]+sale_number_1*df1['规格'][i])/df1['综合\\n日均销'][i] <=45 and df1[' 订货包数']*df1['规格'] < df1['仓库\\n可用库存']:\n",
    "                                sale_number_1 = sale_number_1 + 1\n",
    "                            sale_number.append(sale_number_1)\n",
    "                            sale_day_1.append(min((df1['门店\\n库存'][i]+1*df1['规格'][i])/df1['综合\\n日均销'][i],(df1['门店\\n库存'][i]+1*df1['规格'][i])/df1['本店\\n日均销'][i]))\n",
    "                            df1['订货\\n类型'][i] = 0\n",
    "                        else:\n",
    "                            while sale_number_1 > 0 and (df1['门店\\n库存'][i]+sale_number_1*df1['规格'][i])/df1['综合\\n日均销'][i] <=70 and df1[' 订货包数']*df1['规格'] < df1['仓库\\n可用库存']:\n",
    "                                sale_number_1 = sale_number_1 + 1\n",
    "                            sale_number.append(sale_number_1)\n",
    "                            sale_day_1.append(min((df1['门店\\n库存'][i]+1*df1['规格'][i])/df1['综合\\n日均销'][i],(df1['门店\\n库存'][i]+1*df1['规格'][i])/df1['本店\\n日均销'][i]))\n",
    "                            df1['订货\\n类型'][i] = 0\n",
    "                    elif df1['陈列类'][i] == '盲盒系列' and df1['可售天数'][i]<=80:\n",
    "                        while sale_number_1 > 0 and (df1['门店\\n库存'][i]+sale_number_1*df1['规格'][i])/df1['综合\\n日均销'][i] <=80 and df1[' 订货包数']*df1['规格'] < df1['仓库\\n可用库存']:\n",
    "                            sale_number_1 = sale_number_1 + 1\n",
    "                        sale_number.append(sale_number_1)\n",
    "                        sale_day_1.append(min((df1['门店\\n库存'][i]+1*df1['规格'][i])/df1['综合\\n日均销'][i],(df1['门店\\n库存'][i]+1*df1['规格'][i])/df1['本店\\n日均销'][i]))\n",
    "                        df1['订货\\n类型'][i] = 0\n",
    "                    elif df1['可售天数'][i] <= 30:\n",
    "                        while sale_number_1 > 0 and (df1['门店\\n库存'][i]+sale_number_1*df1['规格'][i])/df1['综合\\n日均销'][i] <=30 and df1[' 订货包数']*df1['规格'] < df1['仓库\\n可用库存']:\n",
    "                            sale_number_1 = sale_number_1 + 1\n",
    "                        sale_number.append(sale_number_1)\n",
    "                        sale_day_1.append(min((df1['门店\\n库存'][i]+1*df1['规格'][i])/df1['综合\\n日均销'][i],(df1['门店\\n库存'][i]+1*df1['规格'][i])/df1['本店\\n日均销'][i]))\n",
    "                        df1['订货\\n类型'][i] = 0\n",
    "                    else:\n",
    "                        sale_number.append(df1[' 订货包数'][i])\n",
    "                        sale_day_1.append(df1['可售天数'][i])\n",
    "                else:\n",
    "                    sale_number.append(df1[' 订货包数'][i])\n",
    "                    sale_day_1.append(df1['可售天数'][i])\n",
    "        else:\n",
    "            sale_number.append(df1[' 订货包数'][i])\n",
    "            sale_day_1.append(df1['可售天数'][i])\n",
    "    else:\n",
    "        sale_number.append(df1[' 订货包数'][i])\n",
    "        sale_day_1.append(df1['可售天数'][i])\n",
    "\n",
    "df1[' 订货包数']=sale_number\n",
    "df1['可售天数'] = sale_day_1\n",
    "df1['调整后\\n订货数量']= df1[' 订货包数']*df1['规格']"
   ]
  },
  {
   "cell_type": "code",
   "execution_count": 77,
   "metadata": {},
   "outputs": [
    {
     "name": "stderr",
     "output_type": "stream",
     "text": [
      "C:\\Users\\Irene\\AppData\\Local\\Temp\\ipykernel_16060\\3660233520.py:25: SettingWithCopyWarning: \n",
      "A value is trying to be set on a copy of a slice from a DataFrame\n",
      "\n",
      "See the caveats in the documentation: https://pandas.pydata.org/pandas-docs/stable/user_guide/indexing.html#returning-a-view-versus-a-copy\n",
      "  df1['订货\\n类型'][i] = 0\n",
      "C:\\Users\\Irene\\AppData\\Local\\Temp\\ipykernel_16060\\3660233520.py:24: RuntimeWarning: divide by zero encountered in double_scalars\n",
      "  sale_day_1.append(min((df1['门店\\n库存'][i]+1*df1['规格'][i])/df1['综合\\n日均销'][i],(df1['门店\\n库存'][i]+1*df1['规格'][i])/df1['本店\\n日均销'][i]))\n",
      "C:\\Users\\Irene\\AppData\\Local\\Temp\\ipykernel_16060\\3660233520.py:6: RuntimeWarning: divide by zero encountered in double_scalars\n",
      "  if df1['仓库\\n可用库存'][i] > 0 and (df1['门店\\n库存'][i]+1*df1['规格'][i])/df1['综合\\n日均销'][i]<=standard_number_of_day_up and df1['门店\\n库存'][i]<df1['规格'][i]/2:\n",
      "C:\\Users\\Irene\\AppData\\Local\\Temp\\ipykernel_16060\\3660233520.py:11: RuntimeWarning: divide by zero encountered in double_scalars\n",
      "  sale_day_1.append(min((df1['门店\\n库存'][i]+1*df1['规格'][i])/df1['综合\\n日均销'][i],(df1['门店\\n库存'][i]+1*df1['规格'][i])/df1['本店\\n日均销'][i]))\n",
      "C:\\Users\\Irene\\AppData\\Local\\Temp\\ipykernel_16060\\3660233520.py:12: SettingWithCopyWarning: \n",
      "A value is trying to be set on a copy of a slice from a DataFrame\n",
      "\n",
      "See the caveats in the documentation: https://pandas.pydata.org/pandas-docs/stable/user_guide/indexing.html#returning-a-view-versus-a-copy\n",
      "  df1['订货\\n类型'][i] = 0\n"
     ]
    }
   ],
   "source": [
    "sale_number =[]  #调整订货包数\n",
    "sale_day_1 = []   # 可售天数\n",
    "    \n",
    "for i in range(df1.shape[0]):\n",
    "    if df1['订货\\n类型'][i]!='新品' and df1['订货\\n原因'][i] != '禁配':\n",
    "        if df1['仓库\\n可用库存'][i] > 0 and (df1['门店\\n库存'][i]+1*df1['规格'][i])/df1['综合\\n日均销'][i]<=standard_number_of_day_up and df1['门店\\n库存'][i]<df1['规格'][i]/2:\n",
    "            if df1['陈列类'][i] == '居家生活-公仔' and df1['可售天数'][i]<=40:\n",
    "                while sale_number_1 > 0 and (df1['门店\\n库存'][i]+sale_number_1*df1['规格'][i])/df1['综合\\n日均销'][i] <=40 and df1[' 订货包数']*df1['规格'] < df1['仓库\\n可用库存']:\n",
    "                    sale_number_1 = sale_number_1 + 1\n",
    "                sale_number.append(sale_number_1)\n",
    "                sale_day_1.append(min((df1['门店\\n库存'][i]+1*df1['规格'][i])/df1['综合\\n日均销'][i],(df1['门店\\n库存'][i]+1*df1['规格'][i])/df1['本店\\n日均销'][i]))\n",
    "                df1['订货\\n类型'][i] = 0\n",
    "            elif df1['陈列类'][i] == '食品' and df1['可售天数'][i]<=70:\n",
    "                if df1['细类名称'][i] == '饮料/饮品' and df1['可售天数'][i]<=45:\n",
    "                    while sale_number_1 > 0 and (df1['门店\\n库存'][i]+sale_number_1*df1['规格'][i])/df1['综合\\n日均销'][i] <=45 and df1[' 订货包数']*df1['规格'] < df1['仓库\\n可用库存']:\n",
    "                        sale_number_1 = sale_number_1 + 1\n",
    "                    sale_number.append(sale_number_1)\n",
    "                    sale_day_1.append(min((df1['门店\\n库存'][i]+1*df1['规格'][i])/df1['综合\\n日均销'][i],(df1['门店\\n库存'][i]+1*df1['规格'][i])/df1['本店\\n日均销'][i]))\n",
    "                    df1['订货\\n类型'][i] = 0\n",
    "                else:\n",
    "                    while sale_number_1 > 0 and (df1['门店\\n库存'][i]+sale_number_1*df1['规格'][i])/df1['综合\\n日均销'][i] <=70 and df1[' 订货包数']*df1['规格'] < df1['仓库\\n可用库存']:\n",
    "                        sale_number_1 = sale_number_1 + 1\n",
    "                    sale_number.append(sale_number_1)\n",
    "                    sale_day_1.append(min((df1['门店\\n库存'][i]+1*df1['规格'][i])/df1['综合\\n日均销'][i],(df1['门店\\n库存'][i]+1*df1['规格'][i])/df1['本店\\n日均销'][i]))\n",
    "                    df1['订货\\n类型'][i] = 0\n",
    "            elif df1['陈列类'][i] == '盲盒系列' and df1['可售天数'][i]<=80:\n",
    "                while sale_number_1 > 0 and (df1['门店\\n库存'][i]+sale_number_1*df1['规格'][i])/df1['综合\\n日均销'][i] <=80 and df1[' 订货包数']*df1['规格'] < df1['仓库\\n可用库存']:\n",
    "                    sale_number_1 = sale_number_1 + 1\n",
    "                sale_number.append(sale_number_1)\n",
    "                sale_day_1.append(min((df1['门店\\n库存'][i]+1*df1['规格'][i])/df1['综合\\n日均销'][i],(df1['门店\\n库存'][i]+1*df1['规格'][i])/df1['本店\\n日均销'][i]))\n",
    "                df1['订货\\n类型'][i] = 0\n",
    "            else:\n",
    "                sale_number.append(df1[' 订货包数'][i])\n",
    "                sale_day_1.append(df1['可售天数'][i]) \n",
    "        else:\n",
    "            sale_number.append(df1[' 订货包数'][i])\n",
    "            sale_day_1.append(df1['可售天数'][i])\n",
    "    else:\n",
    "        sale_number.append(df1[' 订货包数'][i])\n",
    "        sale_day_1.append(df1['可售天数'][i])\n",
    "\n",
    "df1[' 订货包数']=sale_number\n",
    "df1['可售天数'] = sale_day_1\n",
    "df1['调整后\\n订货数量']= df1[' 订货包数']*df1['规格']"
   ]
  },
  {
   "cell_type": "code",
   "execution_count": 78,
   "metadata": {
    "scrolled": true
   },
   "outputs": [],
   "source": [
    "# 2. 补本店畅销品\n",
    "\n",
    "sale_number =[]#调整订货包数\n",
    "sale_day_1 = []   # 可售天数\n",
    "sale_day_type = []  #销售类型\n",
    "\n",
    "for i in range(df1.shape[0]):\n",
    "    if df1['仓库\\n可用库存'][i] > 0 and df1['订货\\n类型'][i]!='新品' and df1['订货\\n原因'][i] != '禁配':    \n",
    "        # if i<top_article:补top商品\n",
    "        if df1['本店\\n日均销'][i] > sell_well_down:\n",
    "            sale_number_1 = df1[' 订货包数'][i]\n",
    "            if (df1['门店\\n库存'][i]+sale_number_1*df1['规格'][i])/df1['本店\\n日均销'][i]<standard_number_of_day_down:\n",
    "                while (df1['门店\\n库存'][i]+sale_number_1*df1['规格'][i])/df1['本店\\n日均销'][i]<standard_number_of_day_down and df1['仓库\\n可用库存'][i] > sale_number_1+1:\n",
    "                    sale_number_1=sale_number_1+1\n",
    "    \n",
    "                if (df1['门店\\n库存'][i]+sale_number_1*df1['规格'][i])/df1['本店\\n日均销'][i]<=standard_number_of_day_up:\n",
    "                    if sale_number_1 >0:\n",
    "                        sale_number.append(sale_number_1)\n",
    "                        sale_day_1.append((df1['门店\\n库存'][i]+sale_number_1*df1['规格'][i])/df1['本店\\n日均销'][i])\n",
    "                        sale_day_type.append(0)\n",
    "                    else:\n",
    "                        sale_number.append(0)\n",
    "                        sale_day_1.append((df1['门店\\n库存'][i]+0*df1['规格'][i])/df1['本店\\n日均销'][i])\n",
    "                        sale_day_type.append(0)\n",
    "                \n",
    "                elif  (df1['门店\\n库存'][i]+sale_number_1*df1['规格'][i])/df1['本店\\n日均销'][i]>standard_number_of_day_up:\n",
    "                    if sale_number_1 >0:\n",
    "                        sale_number.append(sale_number_1-1)\n",
    "                        sale_day_1.append((df1['门店\\n库存'][i]+(sale_number_1-1)*df1['规格'][i])/df1['本店\\n日均销'][i])\n",
    "                        sale_day_type.append(0)\n",
    "                    \n",
    "                    else:\n",
    "                        sale_number.append(0)\n",
    "                        sale_day_1.append((df1['门店\\n库存'][i]+0*df1['规格'][i])/df1['本店\\n日均销'][i])\n",
    "                        sale_day_type.append(0)\n",
    "            else:\n",
    "                sale_number.append(sale_number_1)\n",
    "                sale_day_1.append((df1['门店\\n库存'][i]+sale_number_1*df1['规格'][i])/df1['本店\\n日均销'][i])\n",
    "                sale_day_type.append(0)\n",
    "        else:\n",
    "            sale_number.append(df1[' 订货包数'][i])\n",
    "            sale_day_1.append(df1['可售天数'][i])\n",
    "            sale_day_type.append(0)\n",
    "\n",
    "    else:\n",
    "        sale_number.append(df1[' 订货包数'][i])\n",
    "        sale_day_1.append(df1['可售天数'][i])\n",
    "        sale_day_type.append(0)\n",
    "    \n",
    "df1['订货包数']=sale_number\n",
    "df1['可售天数'] = sale_day_1\n",
    "df1['订货\\n类型'] = sale_day_type\n",
    "df1['调整后\\n订货数量']= df1[' 订货包数']*df1['规格']"
   ]
  },
  {
   "cell_type": "code",
   "execution_count": 79,
   "metadata": {},
   "outputs": [
    {
     "data": {
      "text/plain": [
       "236"
      ]
     },
     "execution_count": 79,
     "metadata": {},
     "output_type": "execute_result"
    }
   ],
   "source": [
    "sum(df1[' 订货包数']*df1['规格'])"
   ]
  },
  {
   "cell_type": "code",
   "execution_count": 80,
   "metadata": {},
   "outputs": [
    {
     "name": "stderr",
     "output_type": "stream",
     "text": [
      "C:\\Users\\Irene\\AppData\\Local\\Temp\\ipykernel_16060\\2202897740.py:18: SettingWithCopyWarning: \n",
      "A value is trying to be set on a copy of a slice from a DataFrame\n",
      "\n",
      "See the caveats in the documentation: https://pandas.pydata.org/pandas-docs/stable/user_guide/indexing.html#returning-a-view-versus-a-copy\n",
      "  df1['订货\\n类型'][i] = 0\n",
      "C:\\Users\\Irene\\AppData\\Local\\Temp\\ipykernel_16060\\2202897740.py:17: RuntimeWarning: divide by zero encountered in double_scalars\n",
      "  sale_day_1.append(min((df1['门店\\n库存'][i]+1*df1['规格'][i])/df1['综合\\n日均销'][i],(df1['门店\\n库存'][i]+1*df1['规格'][i])/df1['本店\\n日均销'][i]))\n"
     ]
    }
   ],
   "source": [
    "# 3. 补综合畅销\n",
    "\n",
    "sale_number =[]#调整订货包数\n",
    "sale_day_1 = []   # 可售天数\n",
    "    \n",
    "for i in range(df1.shape[0]):\n",
    "    if df1['订货\\n类型'][i]!='新品' and df1['订货\\n原因'][i] != '禁配':\n",
    "        # if i<top_article:  #补top的\n",
    "        if df1['综合\\n日均销'][i] > sell_well_down_all_area:\n",
    "            sale_number_1 = df1[' 订货包数'][i]\n",
    "            if sale_number_1 > 0:\n",
    "                sale_number.append(df1[' 订货包数'][i])\n",
    "                sale_day_1.append(df1['可售天数'][i]) \n",
    "            else:\n",
    "                if df1['仓库\\n可用库存'][i] > 0 and (df1['门店\\n库存'][i]+1*df1['规格'][i])/df1['综合\\n日均销'][i]<=standard_number_of_day_up and df1['门店\\n库存'][i]<df1['规格'][i]/2 and df1['细类\\n平衡率'][i] < balance_ratio:\n",
    "                    sale_number.append(1)\n",
    "                    sale_day_1.append(min((df1['门店\\n库存'][i]+1*df1['规格'][i])/df1['综合\\n日均销'][i],(df1['门店\\n库存'][i]+1*df1['规格'][i])/df1['本店\\n日均销'][i])) \n",
    "                    df1['订货\\n类型'][i] = 0\n",
    "                else:\n",
    "                    sale_number.append(df1[' 订货包数'][i])\n",
    "                    sale_day_1.append(df1['可售天数'][i]) \n",
    "        else:\n",
    "            sale_number.append(df1[' 订货包数'][i])\n",
    "            sale_day_1.append(df1['可售天数'][i])\n",
    "    else:\n",
    "        sale_number.append(df1[' 订货包数'][i])\n",
    "        sale_day_1.append(df1['可售天数'][i])\n",
    "\n",
    "df1[' 订货包数']=sale_number\n",
    "df1['可售天数'] = sale_day_1\n",
    "df1['调整后\\n订货数量']= df1[' 订货包数']*df1['规格']"
   ]
  },
  {
   "cell_type": "code",
   "execution_count": 81,
   "metadata": {},
   "outputs": [
    {
     "data": {
      "text/plain": [
       "591"
      ]
     },
     "execution_count": 81,
     "metadata": {},
     "output_type": "execute_result"
    }
   ],
   "source": [
    "sum(df1[' 订货包数']*df1['规格'])"
   ]
  },
  {
   "cell_type": "code",
   "execution_count": 82,
   "metadata": {},
   "outputs": [
    {
     "name": "stderr",
     "output_type": "stream",
     "text": [
      "C:\\Users\\Irene\\AppData\\Local\\Temp\\ipykernel_16060\\2259298872.py:17: RuntimeWarning: divide by zero encountered in double_scalars\n",
      "  sale_day_1.append(min((df1['门店\\n库存'][i]+1*df1['规格'][i])/df1['本店\\n日均销'][i],(df1['门店\\n库存'][i]+1*df1['规格'][i])/df1['综合\\n日均销'][i],(df1['门店\\n库存'][i]+sale_number_1*df1['规格'][i])/df1['区域\\n日均销'][i]))\n",
      "C:\\Users\\Irene\\AppData\\Local\\Temp\\ipykernel_16060\\2259298872.py:18: SettingWithCopyWarning: \n",
      "A value is trying to be set on a copy of a slice from a DataFrame\n",
      "\n",
      "See the caveats in the documentation: https://pandas.pydata.org/pandas-docs/stable/user_guide/indexing.html#returning-a-view-versus-a-copy\n",
      "  df1['订货\\n类型'][i] = 2\n"
     ]
    }
   ],
   "source": [
    "# 4. 补区域畅销\n",
    "\n",
    "sale_number =[]#调整订货包数\n",
    "sale_day_1 = []   # 可售天数\n",
    "    \n",
    "for i in range(df1.shape[0]):\n",
    "    if df1['订货\\n类型'][i]!='新品' and df1['订货\\n原因'][i] != '禁配':\n",
    "        # if i<top_article:  #补top的\n",
    "        if df1['区域\\n日均销'][i] > sell_well_down_all_area:\n",
    "            sale_number_1 = df1[' 订货包数'][i]\n",
    "            if sale_number_1 > 0:\n",
    "                sale_number.append(df1[' 订货包数'][i])\n",
    "                sale_day_1.append(df1['可售天数'][i]) \n",
    "            else:\n",
    "                if df1['仓库\\n可用库存'][i] > 0 and (df1['门店\\n库存'][i]+1*df1['规格'][i])/df1['区域\\n日均销'][i]<=standard_number_of_day_up and df1['门店\\n库存'][i]<df1['规格'][i]/2 and df1['细类\\n平衡率'][i] < balance_ratio:\n",
    "                    sale_number.append(1)\n",
    "                    sale_day_1.append(min((df1['门店\\n库存'][i]+1*df1['规格'][i])/df1['本店\\n日均销'][i],(df1['门店\\n库存'][i]+1*df1['规格'][i])/df1['综合\\n日均销'][i],(df1['门店\\n库存'][i]+sale_number_1*df1['规格'][i])/df1['区域\\n日均销'][i])) \n",
    "                    df1['订货\\n类型'][i] = 2\n",
    "                else:\n",
    "                    sale_number.append(df1[' 订货包数'][i])\n",
    "                    sale_day_1.append(df1['可售天数'][i]) \n",
    "        else:\n",
    "            sale_number.append(df1[' 订货包数'][i])\n",
    "            sale_day_1.append(df1['可售天数'][i])\n",
    "    else:\n",
    "        sale_number.append(df1[' 订货包数'][i])\n",
    "        sale_day_1.append(df1['可售天数'][i])\n",
    "\n",
    "df1[' 订货包数']=sale_number\n",
    "df1['可售天数'] = sale_day_1\n",
    "df1['调整后\\n订货数量']= df1[' 订货包数']*df1['规格']"
   ]
  },
  {
   "cell_type": "code",
   "execution_count": 83,
   "metadata": {},
   "outputs": [
    {
     "data": {
      "text/plain": [
       "611"
      ]
     },
     "execution_count": 83,
     "metadata": {},
     "output_type": "execute_result"
    }
   ],
   "source": [
    "sum(df1[' 订货包数']*df1['规格'])"
   ]
  },
  {
   "cell_type": "code",
   "execution_count": 84,
   "metadata": {
    "scrolled": true
   },
   "outputs": [
    {
     "name": "stderr",
     "output_type": "stream",
     "text": [
      "C:\\Users\\Irene\\AppData\\Local\\Temp\\ipykernel_16060\\227124675.py:26: RuntimeWarning: divide by zero encountered in double_scalars\n",
      "  sale_day_1.append((df1['门店\\n库存'][i]+sale_number_1*df1['规格'][i])/df1['综合\\n日均销'][i])\n"
     ]
    }
   ],
   "source": [
    "# 5. 补新品\n",
    "\n",
    "sale_number =[]#调整订货包数\n",
    "sale_day_1 = []   # 可售天数\n",
    "\n",
    "for i in range(df1.shape[0]):\n",
    "    if df1['仓库\\n可用库存'][i] > 0 and df1['订货\\n类型'][i]=='新品' and df1['订货\\n原因'][i] != '禁配':\n",
    "        sale_number_1 = df1[' 订货包数'][i]\n",
    "        if df1['系统\\n订货数量'][i] > 0:\n",
    "            sale_number_1= df1['系统\\n订货数量'][i]/df1['规格'][i]\n",
    "            sale_number.append(sale_number_1)\n",
    "            sale_day_1.append(0)\n",
    "            df1['订货\\n类型'][i] = -1\n",
    "        else:\n",
    "            if (df1['综合\\n日均销'][i]>new_well_down or df1['区域\\n日均销'][i]>new_well_down) and df1['细类\\n平衡率'][i]<1:\n",
    "                while sale_number_1*df1['规格'][i] < df1[ '单品标准PCS'][i] and df1['仓库\\n可用库存'][i] >= (sale_number_1+1)*df1['规格'][i] :\n",
    "                    sale_number_1=sale_number_1+1\n",
    "                sale_number.append(sale_number_1)\n",
    "                sale_day_1.append(min((df1['门店\\n库存'][i]+sale_number_1*df1['规格'][i])/df1['本店\\n日均销'][i],(df1['门店\\n库存'][i]+sale_number_1*df1['规格'][i])/df1['综合\\n日均销'][i],(df1['门店\\n库存'][i]+sale_number_1*df1['规格'][i])/df1['区域\\n日均销'][i]))\n",
    "                df1['订货\\n类型'][i]=-1\n",
    "            else:\n",
    "                sale_number.append(0)\n",
    "                sale_day_1.append(0)\n",
    "    else:\n",
    "        sale_number.append(df1[' 订货包数'][i])\n",
    "        sale_day_1.append((df1['门店\\n库存'][i]+sale_number_1*df1['规格'][i])/df1['综合\\n日均销'][i])  \n",
    "        \n",
    "        #if df1['补货类型'][i] == 0:\n",
    "            #sale_day_1.append((df1['门店\\n库存'][i]+sale_number_1*df1['规格'][i])/max(df1['本店\\n日均销'][i],df1['综合\\n日均销'][i],df1['区域\\n日均销'][i]))         \n",
    "        #elif df1['补货类型'][i] == 1:\n",
    "            #sale_day_1.append((df1['门店\\n库存'][i]+sale_number_1*df1['规格'][i])/max(df1['本店\\n日均销'][i],df1['综合\\n日均销'][i],df1['区域\\n日均销'][i]))       \n",
    "        #else:\n",
    "            #sale_day_1.append((df1['门店\\n库存'][i]+sale_number_1*df1['规格'][i])/max(df1['本店\\n日均销'][i],df1['综合\\n日均销'][i],df1['区域\\n日均销'][i]))      \n",
    "\n",
    "df1[' 订货包数']=sale_number\n",
    "df1['可售天数'] = sale_day_1\n",
    "df1['调整后\\n订货数量']= df1[' 订货包数']*df1['规格']"
   ]
  },
  {
   "cell_type": "code",
   "execution_count": 85,
   "metadata": {},
   "outputs": [
    {
     "data": {
      "text/plain": [
       "611"
      ]
     },
     "execution_count": 85,
     "metadata": {},
     "output_type": "execute_result"
    }
   ],
   "source": [
    "sum(df1[' 订货包数']*df1['规格'])"
   ]
  },
  {
   "cell_type": "code",
   "execution_count": 86,
   "metadata": {},
   "outputs": [
    {
     "name": "stdout",
     "output_type": "stream",
     "text": [
      "923\n"
     ]
    },
    {
     "name": "stderr",
     "output_type": "stream",
     "text": [
      "C:\\Users\\Irene\\AppData\\Local\\Temp\\ipykernel_16060\\2634855962.py:4: SettingWithCopyWarning: \n",
      "A value is trying to be set on a copy of a slice from a DataFrame\n",
      "\n",
      "See the caveats in the documentation: https://pandas.pydata.org/pandas-docs/stable/user_guide/indexing.html#returning-a-view-versus-a-copy\n",
      "  df1[' 订货包数'][i] = df1[' 订货包数'][i] + 1\n",
      "C:\\Users\\Irene\\AppData\\Local\\Temp\\ipykernel_16060\\2634855962.py:5: SettingWithCopyWarning: \n",
      "A value is trying to be set on a copy of a slice from a DataFrame\n",
      "\n",
      "See the caveats in the documentation: https://pandas.pydata.org/pandas-docs/stable/user_guide/indexing.html#returning-a-view-versus-a-copy\n",
      "  df1['订货\\n类型'][i] = 3\n",
      "C:\\Users\\Irene\\AppData\\Local\\Temp\\ipykernel_16060\\2634855962.py:3: RuntimeWarning: divide by zero encountered in double_scalars\n",
      "  if 0 < ((df1['门店\\n库存'][i]+df1[' 订货包数'][i]*df1['规格'][i])/df1['本店\\n日均销'][i]) < standard_number_of_day_down-advance_day and df1['本店\\n日均销'][i] > sell_well_down and (df1['门店\\n库存'][i]+(df1[' 订货包数'][i]+1)*df1['规格'][i])/df1['本店\\n日均销'][i] < standard_number_of_day_down-advance_day and df1['仓库\\n可用库存'][i] >= (df1[' 订货包数'][i] + 1)*df1['规格'][i] and df1['订货\\n类型'][i]!='新品' and df1['订货\\n原因'][i] != '禁配':\n",
      "C:\\Users\\Irene\\AppData\\Local\\Temp\\ipykernel_16060\\2634855962.py:3: RuntimeWarning: invalid value encountered in double_scalars\n",
      "  if 0 < ((df1['门店\\n库存'][i]+df1[' 订货包数'][i]*df1['规格'][i])/df1['本店\\n日均销'][i]) < standard_number_of_day_down-advance_day and df1['本店\\n日均销'][i] > sell_well_down and (df1['门店\\n库存'][i]+(df1[' 订货包数'][i]+1)*df1['规格'][i])/df1['本店\\n日均销'][i] < standard_number_of_day_down-advance_day and df1['仓库\\n可用库存'][i] >= (df1[' 订货包数'][i] + 1)*df1['规格'][i] and df1['订货\\n类型'][i]!='新品' and df1['订货\\n原因'][i] != '禁配':\n"
     ]
    }
   ],
   "source": [
    "# 6. 先补有销售但超天数的\n",
    "for i in range(df1.shape[0]):\n",
    "    if 0 < ((df1['门店\\n库存'][i]+df1[' 订货包数'][i]*df1['规格'][i])/df1['本店\\n日均销'][i]) < standard_number_of_day_down-advance_day and df1['本店\\n日均销'][i] > sell_well_down and (df1['门店\\n库存'][i]+(df1[' 订货包数'][i]+1)*df1['规格'][i])/df1['本店\\n日均销'][i] < standard_number_of_day_down-advance_day and df1['仓库\\n可用库存'][i] >= (df1[' 订货包数'][i] + 1)*df1['规格'][i] and df1['订货\\n类型'][i]!='新品' and df1['订货\\n原因'][i] != '禁配':\n",
    "        df1[' 订货包数'][i] = df1[' 订货包数'][i] + 1\n",
    "        df1['订货\\n类型'][i] = 3\n",
    "        \n",
    "old_sum = sum(df1[' 订货包数']*df1['规格'])\n",
    "print(old_sum)"
   ]
  },
  {
   "cell_type": "code",
   "execution_count": 87,
   "metadata": {},
   "outputs": [],
   "source": [
    "sale_number = []  # 下单包数\n",
    "for i in range(df1.shape[0]):\n",
    "    if df1['陈列类'][i] == '购物袋':\n",
    "        sale_number.append(0)\n",
    "    else:\n",
    "        sale_number.append(df1[' 订货包数'][i])\n",
    "        \n",
    "df1[' 订货包数'] =sale_number"
   ]
  },
  {
   "cell_type": "code",
   "execution_count": 88,
   "metadata": {
    "scrolled": true
   },
   "outputs": [
    {
     "name": "stdout",
     "output_type": "stream",
     "text": [
      "##################  小  了  ##################\n",
      "加新品：723\n"
     ]
    },
    {
     "name": "stderr",
     "output_type": "stream",
     "text": [
      "C:\\Users\\Irene\\AppData\\Local\\Temp\\ipykernel_16060\\786197571.py:113: SettingWithCopyWarning: \n",
      "A value is trying to be set on a copy of a slice from a DataFrame\n",
      "\n",
      "See the caveats in the documentation: https://pandas.pydata.org/pandas-docs/stable/user_guide/indexing.html#returning-a-view-versus-a-copy\n",
      "  df1[' 订货包数'][i] = df1[' 订货包数'][i] + 1\n",
      "C:\\Users\\Irene\\AppData\\Local\\Temp\\ipykernel_16060\\786197571.py:114: SettingWithCopyWarning: \n",
      "A value is trying to be set on a copy of a slice from a DataFrame\n",
      "\n",
      "See the caveats in the documentation: https://pandas.pydata.org/pandas-docs/stable/user_guide/indexing.html#returning-a-view-versus-a-copy\n",
      "  df1['订货\\n类型'][i] = 4\n",
      "C:\\Users\\Irene\\AppData\\Local\\Temp\\ipykernel_16060\\786197571.py:112: RuntimeWarning: divide by zero encountered in double_scalars\n",
      "  while df1['系统\\n订货数量'][i] > df1[' 订货包数'][i]*df1['规格'][i] and (df1['门店\\n库存'][i]+(df1[' 订货包数'][i]+1)*df1['规格'][i])/df1['综合\\n日均销'][i] < max_sale_day:\n"
     ]
    },
    {
     "name": "stdout",
     "output_type": "stream",
     "text": [
      "加系统补货: 19565.340000000007\n"
     ]
    },
    {
     "name": "stderr",
     "output_type": "stream",
     "text": [
      "C:\\Users\\Irene\\AppData\\Local\\Temp\\ipykernel_16060\\786197571.py:143: SettingWithCopyWarning: \n",
      "A value is trying to be set on a copy of a slice from a DataFrame\n",
      "\n",
      "See the caveats in the documentation: https://pandas.pydata.org/pandas-docs/stable/user_guide/indexing.html#returning-a-view-versus-a-copy\n",
      "  df1[' 订货包数'][i] = df1[' 订货包数'][i] + 1\n",
      "C:\\Users\\Irene\\AppData\\Local\\Temp\\ipykernel_16060\\786197571.py:144: SettingWithCopyWarning: \n",
      "A value is trying to be set on a copy of a slice from a DataFrame\n",
      "\n",
      "See the caveats in the documentation: https://pandas.pydata.org/pandas-docs/stable/user_guide/indexing.html#returning-a-view-versus-a-copy\n",
      "  df1['订货\\n类型'][i] = 6\n"
     ]
    },
    {
     "name": "stdout",
     "output_type": "stream",
     "text": [
      "畅销最低周转天数为： 41天  3605\n",
      "畅销最低周转天数为： 42天  3665\n",
      "畅销最低周转天数为： 43天  3712\n",
      "畅销最低周转天数为： 44天  3781\n",
      "畅销最低周转天数为： 45天  3809\n",
      "畅销最低周转天数为： 46天  3871\n",
      "畅销最低周转天数为： 47天  3982\n",
      "畅销最低周转天数为： 48天  4017\n",
      "畅销最低周转天数为： 49天  4097\n",
      "畅销最低周转天数为： 50天  4152\n",
      "畅销最低周转天数为： 51天  4223\n",
      "畅销最低周转天数为： 52天  4291\n",
      "畅销最低周转天数为： 53天  4384\n",
      "畅销最低周转天数为： 54天  4469\n",
      "畅销最低周转天数为： 55天  4568\n",
      "畅销最低周转天数为： 56天  4660\n",
      "畅销最低周转天数为： 57天  4787\n",
      "畅销最低周转天数为： 58天  5082\n",
      "畅销最低周转天数为： 59天  5179\n",
      "畅销最低周转天数为： 60天  5250\n",
      "畅销最低周转天数为： 61天  5368\n",
      "畅销最低周转天数为： 62天  5527\n",
      "##################  完 成 少 补 多  ##################\n",
      "正常最后补充数量： 5527\n"
     ]
    }
   ],
   "source": [
    "# 多退少补\n",
    "\n",
    "    # 在范围里面\n",
    "if sum(df1[' 订货包数']*df1['规格']) >stock_piece-patch_Upper_and_lower and sum(df1[' 订货包数']*df1['规格']) <stock_piece+patch_Upper_and_lower:\n",
    "    print('##################  检  查  一  下  ##################')\n",
    "\n",
    "    \n",
    "    \n",
    "    \n",
    "    # 如果大了\n",
    "elif sum(df1[' 订货包数']*df1['规格']) >stock_piece+patch_Upper_and_lower:\n",
    "    \n",
    "    print('##################  大  了  ##################')\n",
    "    \n",
    "    Sale_Day = []  #改可售天数，提高效率\n",
    "    \n",
    "    for i in range(df1.shape[0]):\n",
    "        print('更新可售天数',i)\n",
    "        if df1['订货\\n类型'][i] ==0 or df1['订货\\n类型'][i] ==3:\n",
    "            Sale_Day.append((df1['门店\\n库存'][i]+df1[' 订货包数'][i]*df1['规格'][i])/max(df1['本店\\n日均销'][i],df1['综合\\n日均销'][i]))\n",
    "        elif df1['订货\\n类型'][i] ==1:\n",
    "            Sale_Day.append((df1['门店\\n库存'][i]+sale_number_1*df1['规格'][i])/df1['综合\\n日均销'][i])\n",
    "        elif df1['订货\\n类型'][i] ==2:\n",
    "            Sale_Day.append((df1['门店\\n库存'][i]+sale_number_1*df1['规格'][i])/df1['区域\\n日均销'][i])\n",
    "        else:\n",
    "            Sale_Day.append(0)\n",
    "            \n",
    "    df1['可售天数'] = Sale_Day     \n",
    "    # 订货总额\n",
    "    \n",
    "    # money_amount = sum(df1[' 订货包数']*df1['规格']*df1['本地\\n组合价'])\n",
    "    \n",
    "    sale_type_1 = [2,3]\n",
    "    sale_type_2 = ['区域日均销','本店最后补的']\n",
    "    sale_type_4 = ['区域\\n日均销','本店\\n日均销']\n",
    "    \n",
    "    for i in range(len(sale_type_1)):\n",
    "        \n",
    "        # 判断用\n",
    "        sale_type_3 = 0 \n",
    "        True_False = True\n",
    "        \n",
    "        for k in range(df1.shape[0]):\n",
    "            print(sale_type_2[i],'算补货了的SKU',k)\n",
    "            if df1['订货\\n类型'][k] == sale_type_1[i] and df1[' 订货包数'][k] > 0:\n",
    "                sale_type_3 = sale_type_3 + df1[' 订货包数'][k]   \n",
    "        while sale_type_3 > 0 and True_False :\n",
    "            df1=df1.sort_values(by=['可售天数'],ascending=False)\n",
    "            #df1=df1.reset_index(drop = True)\n",
    "            for j in range(df1.shape[0]):\n",
    "                print(sale_type_2[i],'去天数',j,sum(df1[' 订货包数']*df1['规格']),sale_type_3)\n",
    "                if df1['订货\\n类型'][j] == sale_type_1[i] and df1[' 订货包数'][j] > 0:\n",
    "                    df1[' 订货包数'][j] = df1[' 订货包数'][j] - 1\n",
    "                    sale_type_3 = sale_type_3 - 1\n",
    "                    df1['可售天数'][j] = (df1['门店\\n库存'][j]+sale_number_1*df1['规格'][j])/df1[sale_type_4[i]][j]\n",
    "                if sum(df1[' 订货包数']*df1['规格']) <stock_piece+patch_Upper_and_lower:\n",
    "                    True_False = False\n",
    "                    break\n",
    "        if sum(df1[' 订货包数']*df1['规格']) <stock_piece+patch_Upper_and_lower:\n",
    "            break\n",
    "    \n",
    "    if sum(df1[' 订货包数']*df1['规格']) >stock_piece+patch_Upper_and_lower:\n",
    "        wh = 0\n",
    "        while sum(df1[' 订货包数']*df1['规格']) > stock_piece+patch_Upper_and_lower and wh!=df1.shape[0]-1:\n",
    "            print('最后降序',sum(df1[' 订货包数']*df1['规格']),wh)\n",
    "            \n",
    "            df1=df1.sort_values(by=['可售天数'],ascending=False)\n",
    "            #df1=df1.reset_index(drop = True)\n",
    "            wheel = 0\n",
    "            for wh in range(df1.shape[0]):\n",
    "                if max(df1['本店\\n日均销'][wh],df1['综合\\n日均销'][wh]) < sell_well_down:\n",
    "                    if df1[' 订货包数'][wh] > 0 and df1['订货\\n类型'][wh] != '新品':\n",
    "                        df1[' 订货包数'][wh] = df1[' 订货包数'][wh] - 1\n",
    "                        df1['可售天数'][wh] = (df1['门店\\n库存'][wh]+df1[' 订货包数'][wh]*df1['规格'][wh])/max(df1['本店\\n日均销'][wh],df1['综合\\n日均销'][wh])                  \n",
    "                        wheel = wheel + 1 \n",
    "                    if wheel == wheel_number:\n",
    "                        break\n",
    "                else:\n",
    "                    if df1[' 订货包数'][wh] > 0 and df1['订货\\n类型'][wh] != '新品' and (df1['门店\\n库存'][wh]+(df1[' 订货包数'][wh]-1)*df1['规格'][wh])/max(df1['本店\\n日均销'][wh],df1['综合\\n日均销'][wh])>standard_number_of_day_down:\n",
    "                        df1[' 订货包数'][wh] = df1[' 订货包数'][wh] - 1\n",
    "                        df1['可售天数'][wh] = (df1['门店\\n库存'][wh]+df1[' 订货包数'][wh]*df1['规格'][wh])/max(df1['本店\\n日均销'][wh],df1['综合\\n日均销'][wh])                  \n",
    "                        wheel = wheel + 1 \n",
    "                    if wheel == wheel_number:\n",
    "                        break\n",
    "\n",
    "                \n",
    "                    \n",
    "    print('##################  完 成 多 降 少  ##################')\n",
    "\n",
    "    \n",
    "    \n",
    "    \n",
    "    # 如果小了\n",
    "elif sum(df1[' 订货包数']*df1['规格']) <stock_piece-patch_Upper_and_lower:\n",
    "    print('##################  小  了  ##################')\n",
    "    # 加新品\n",
    "    for i in range(df1.shape[0]):\n",
    "        if df1['仓库\\n可用库存'][i] > 0 and df1['订货\\n类型'][i]==' 新品' and df1['订货\\n原因'][i] != '禁配' and df1[' 订货包数'][i] == 0 and df1['细类\\n平衡率'] < mini_balance and df1['细类偏差\\nPCS'] < slender_deviate:\n",
    "            df1[' 订货包数'] = 1\n",
    "            df1['订货\\n类型'][i] = -2\n",
    "    print('加新品：'+str(sum(df1[' 订货包数']*df1['规格'])))\n",
    "\n",
    "\n",
    "    \n",
    "    \n",
    "    # 加系统补货\n",
    "    if sum(df1[' 订货包数']*df1['规格']) <stock_piece:\n",
    "        df1=df1.sort_values(by=['综合\\n日均销'],ascending=True)\n",
    "        #df1=df1.reset_index(drop = True)\n",
    "        for i in range(df1.shape[0]):\n",
    "            if df1['仓库\\n可用库存'][i] > 0 and df1['订货\\n类型'][i]!='新品' and df1['订货\\n原因'][i] != '禁配':\n",
    "                while df1['系统\\n订货数量'][i] > df1[' 订货包数'][i]*df1['规格'][i] and (df1['门店\\n库存'][i]+(df1[' 订货包数'][i]+1)*df1['规格'][i])/df1['综合\\n日均销'][i] < max_sale_day:\n",
    "                    df1[' 订货包数'][i] = df1[' 订货包数'][i] + 1 \n",
    "                    df1['订货\\n类型'][i] = 4\n",
    "            if df1['仓库\\n可用库存'][i] > 0 and df1['订货\\n类型'][i]!='新品' and df1['门店\\n库存'][i] == 0 and df1['系统\\n订货数量'][i] > 0 and df1[' 订货包数'][i] == 0 and df1['区域\\n日均销'][i] > add_to_down and (df1['门店\\n库存'][i]+1*df1['规格'][i])/df1['区域\\n日均销'][i] < max_sale_day:\n",
    "                df1[' 订货包数'][i] = 1 \n",
    "                df1['订货\\n类型'][i] = 5\n",
    "            if sum(df1[' 订货包数']*df1['规格']) > stock_piece: \n",
    "                break \n",
    "                \n",
    "        print('加系统补货: '+str(sum(df1[' 订货包数']*df1['规格']*df1['本地\\n组合价'])))\n",
    "        \n",
    "    \n",
    "    \n",
    "    # 加畅销  \n",
    "    if sum(df1[' 订货包数']*df1['规格']) <stock_piece:\n",
    "        # 订货总额\n",
    "        # money_amount = sum(df1[' 订货包数']*df1['规格']*df1['本地\\n组合价'])\n",
    "        \n",
    "        df1=df1.sort_values(by=['综合\\n日均销'],ascending=False)\n",
    "        #df1=df1.reset_index(drop = True)\n",
    "        \n",
    "        True_False = True\n",
    "        while sum(df1[' 订货包数']*df1['规格']) <stock_piece and standard_number_of_day_down < big_sell_well_day and True_False:\n",
    "            standard_number_of_day_down = standard_number_of_day_down + 1\n",
    "            standard_number_of_day_up = standard_number_of_day_up + 1\n",
    "                        \n",
    "            for i in range(df1.shape[0]):\n",
    "                if sum(df1[' 订货包数']*df1['规格']) <stock_piece:\n",
    "                    if df1['仓库\\n可用库存'][i] > 0 and df1['订货\\n类型'][i]!='新品' and df1['订货\\n原因'][i] != '禁配' and df1['综合\\n日均销'][i] > add_to_down: #and df1['细类\\n平衡率'] < mini_balance :\n",
    "                        while (df1['门店\\n库存'][i]+(df1[' 订货包数'][i])*df1['规格'][i])/df1['综合\\n日均销'][i] < standard_number_of_day_down :\n",
    "                            if df1['仓库\\n可用库存'][i] >= (df1[' 订货包数'][i] + 1)*df1['规格'][i] and (df1['门店\\n库存'][i]+(df1[' 订货包数'][i]+1)*df1['规格'][i])/df1['综合\\n日均销'][i] < standard_number_of_day_up:\n",
    "                                df1[' 订货包数'][i] = df1[' 订货包数'][i] + 1\n",
    "                                df1['订货\\n类型'][i] = 6\n",
    "                                # money_amount = money_amount + 1*df1['规格'][i]*df1['本地\\n组合价'][i]\n",
    "                            else:\n",
    "                                break\n",
    "                                \n",
    "                else:\n",
    "                    break\n",
    "                    \n",
    "            print('畅销最低周转天数为： '+str(standard_number_of_day_down)+'天  '+ str(sum(df1[' 订货包数']*df1['规格'])))\n",
    "            \n",
    "            if sum(df1[' 订货包数']*df1['规格']) > stock_piece: \n",
    "                break    \n",
    "    \n",
    "    \n",
    "            \n",
    "                \n",
    "        \n",
    "\n",
    "                \n",
    "    # 加入细类有偏差的\n",
    "    # if sum(df1[' 订货包数']*df1['规格']*df1['本地\\n组合价']) <stock_amount-patch_Upper_and_lower:\n",
    "    #     df1=df1.sort_values(by=['细类\\n平衡率'],ascending=False)\n",
    "    #     for i in range(df1.shape[0]):\n",
    "    #         if df1['细类\\n平衡率'][i] > 0 and df1['细类\\n平衡率'][i] < 1 and 品类是否补够了:\n",
    "    #             加入细类的整体情况订货情况，判断哪些品类还要补\n",
    "    #             \n",
    "    print('##################  完 成 少 补 多  ##################')\n",
    "    \n",
    "print('正常最后补充数量：',sum(df1[' 订货包数']*df1['规格']))"
   ]
  },
  {
   "cell_type": "code",
   "execution_count": 89,
   "metadata": {},
   "outputs": [],
   "source": [
    "# 判断购物袋要不要补\n",
    "\n",
    "# 更新索引\n",
    "#df1 = df1.reset_index(drop = True)\n",
    "\n",
    "#for i in range(df1.shape[0]):\n",
    "#    while df1['陈列类'][i] == '装材购物袋' and df1['订货\\n原因'][i] != '禁配' and (df1['门店\\n库存'][i]+(df1[' 订货包数'][i])*df1['规格'][i])/df1['综合\\n日均销'][i] < standard_number_of_day_down and df1['仓库\\n可用库存'][i] >= (df1[' 订货包数'][i] + 1)*df1['规格'][i] and (df1['门店\\n库存'][i]+(df1[' 订货包数'][i]+1)*df1['规格'][i])/df1['综合\\n日均销'][i] < standard_number_of_day_up:\n",
    "#                df1[' 订货包数'][i] = df1[' 订货包数'][i] + 1\n",
    "#                df1['订货\\n类型'][i] = 6"
   ]
  },
  {
   "cell_type": "code",
   "execution_count": 90,
   "metadata": {
    "scrolled": true
   },
   "outputs": [
    {
     "name": "stdout",
     "output_type": "stream",
     "text": [
      "5527\n",
      "US23\n"
     ]
    }
   ],
   "source": [
    "print(sum(df1[' 订货包数']*df1['规格']))\n",
    "print(store_code)"
   ]
  },
  {
   "cell_type": "code",
   "execution_count": 91,
   "metadata": {},
   "outputs": [],
   "source": [
    "df1['调整后\\n订货数量']= df1[' 订货包数']*df1['规格']"
   ]
  },
  {
   "cell_type": "code",
   "execution_count": 92,
   "metadata": {},
   "outputs": [
    {
     "name": "stdout",
     "output_type": "stream",
     "text": [
      "##################  完   成  ##################\n"
     ]
    }
   ],
   "source": [
    "# 导出文件\n",
    "df2=df1.sort_index(ascending=True)\n",
    "df2.to_excel(store_code+' '+date+' '+'下单数量.xlsx',index=False)\n",
    "\n",
    "print('##################  完   成  ##################')\n",
    "#elapsed = (time.clock() - start)\n",
    "#print(\"Time used:\",elapsed)"
   ]
  },
  {
   "cell_type": "code",
   "execution_count": 93,
   "metadata": {},
   "outputs": [],
   "source": [
    "# 剔除有订货包数但是销量很差的\n",
    "# 小于15天根据品类平衡如何判断\n"
   ]
  },
  {
   "cell_type": "code",
   "execution_count": null,
   "metadata": {},
   "outputs": [],
   "source": []
  }
 ],
 "metadata": {
  "kernelspec": {
   "display_name": "Python 3 (ipykernel)",
   "language": "python",
   "name": "python3"
  },
  "language_info": {
   "codemirror_mode": {
    "name": "ipython",
    "version": 3
   },
   "file_extension": ".py",
   "mimetype": "text/x-python",
   "name": "python",
   "nbconvert_exporter": "python",
   "pygments_lexer": "ipython3",
   "version": "3.9.13"
  }
 },
 "nbformat": 4,
 "nbformat_minor": 2
}
